{
  "nbformat": 4,
  "nbformat_minor": 0,
  "metadata": {
    "colab": {
      "provenance": []
    },
    "kernelspec": {
      "name": "python3",
      "display_name": "Python 3"
    },
    "language_info": {
      "name": "python"
    }
  },
  "cells": [
    {
      "cell_type": "markdown",
      "source": [
        "#Statistics Advance Part 1 Assignment"
      ],
      "metadata": {
        "id": "urts2IP6SAJ-"
      }
    },
    {
      "cell_type": "markdown",
      "source": [
        "##Statistics Advance Part 1 Questions"
      ],
      "metadata": {
        "id": "hm3dLKpUm-sO"
      }
    },
    {
      "cell_type": "markdown",
      "source": [
        "1. What is a random variable in probability theory?\n",
        "\n",
        "- Key Points about Random Variables:\n",
        "\n",
        "1) Definition:\n",
        "A random variable is a function that assigns a numerical value to each possible outcome in a sample space.\n",
        "\n",
        "2) Types:\n",
        "\n",
        "Discrete Random Variable:\n",
        "Takes countable values (e.g., number of heads in 3 coin tosses).\n",
        "\n",
        "Continuous Random Variable:\n",
        "Takes uncountable values within a range (e.g., height, weight, temperature).\n",
        "\n",
        "3) Example:\n",
        "\n",
        "Tossing a coin → outcomes: Heads or Tails\n",
        "\n",
        "Define a random variable X:\n",
        "\n",
        "X = 1 if Head\n",
        "\n",
        "X = 0 if Tail\n",
        "\n",
        "4) Used To Model Real-Life Uncertainty:\n",
        "Random variables are used to describe unpredictable outcomes in fields like statistics, data science, finance, etc.\n",
        "\n",
        "5) Probability Distribution:\n",
        "Each random variable has a probability distribution that tells you how likely each value is.\n",
        "\n",
        "6) Not Truly Random in Behavior:\n",
        "Although called \"random\", a random variable just models randomness mathematically."
      ],
      "metadata": {
        "id": "TW0nZVVmSVCX"
      }
    },
    {
      "cell_type": "markdown",
      "source": [
        "\n",
        "\n",
        "---\n",
        "\n"
      ],
      "metadata": {
        "id": "f0Hj71OpsjjQ"
      }
    },
    {
      "cell_type": "markdown",
      "source": [
        "2. What are the types of random variables?\n",
        "\n",
        "- In probability theory, there are mainly two types of random variables, based on the kind of values they can take:\n",
        "\n",
        "1. Discrete Random Variable\n",
        "🔹 Definition:\n",
        "Takes a finite or countable number of distinct values.\n",
        "\n",
        "🔹 Examples:\n",
        "\n",
        "Number of heads in 3 coin tosses (0, 1, 2, or 3)\n",
        "\n",
        "Number of students in a class\n",
        "\n",
        "Rolling a die (1 to 6)\n",
        "\n",
        "🔹 Properties:\n",
        "\n",
        "Values are separated (not continuous)\n",
        "\n",
        "Probability distribution is given by a Probability Mass Function (PMF)\n",
        "\n",
        "2. Continuous Random Variable\n",
        "🔹 Definition:\n",
        "Takes infinite and uncountable values over a range.\n",
        "\n",
        "🔹 Examples:\n",
        "\n",
        "Temperature\n",
        "\n",
        "Height of students\n",
        "\n",
        "Time taken to run a race\n",
        "\n",
        "🔹 Properties:\n",
        "\n",
        "Can take any real value within an interval\n",
        "\n",
        "Probability distribution is given by a Probability Density Function (PDF)\n",
        "\n",
        "The probability of any exact value is 0; only intervals have probabilities."
      ],
      "metadata": {
        "id": "N-UTQp96YBP7"
      }
    },
    {
      "cell_type": "markdown",
      "source": [
        "\n",
        "\n",
        "---\n",
        "\n"
      ],
      "metadata": {
        "id": "h6at4EsGso9U"
      }
    },
    {
      "cell_type": "markdown",
      "source": [
        "3. What is the difference between discrete and continuous distributions?\n",
        "\n",
        "- comparison of discrete vs continuous distributions in point format:\n",
        "\n",
        "🔹 Discrete Distribution:\n",
        "Takes Countable Values\n",
        "\n",
        "Values are separate and distinct (e.g., 0, 1, 2...).\n",
        "\n",
        "Probability is Assigned to Specific Values\n",
        "\n",
        "Example: Probability of rolling a 4 on a die.\n",
        "\n",
        "Described by PMF (Probability Mass Function)\n",
        "\n",
        "PMF gives the probability of each possible value.\n",
        "\n",
        "Sum of All Probabilities = 1\n",
        "\n",
        "Example Distributions:\n",
        "\n",
        "Binomial Distribution\n",
        "\n",
        "Poisson Distribution\n",
        "\n",
        "Geometric Distribution\n",
        "\n",
        "Used For:\n",
        "\n",
        "Counting occurrences (number of emails, calls, heads in tosses)\n",
        "\n",
        "🔸 Continuous Distribution:\n",
        "Takes Uncountable Values\n",
        "\n",
        "Values can be any number in a range (e.g., 1.23, 5.678...).\n",
        "\n",
        "Probability is Assigned to Intervals, Not Exact Values\n",
        "\n",
        "The probability of a single exact value is zero.\n",
        "\n",
        "Described by PDF (Probability Density Function)\n",
        "\n",
        "PDF is used to compute the probability over a range.\n",
        "\n",
        "Area Under the Curve = 1 (not sum of probabilities)\n",
        "\n",
        "Example Distributions:\n",
        "\n",
        "Normal (Gaussian) Distribution\n",
        "\n",
        "Exponential Distribution\n",
        "\n",
        "Uniform Distribution (continuous version)\n",
        "\n",
        "Used For:\n",
        "\n",
        "Measuring things like height, time, weight, temperature"
      ],
      "metadata": {
        "id": "jfPpOF0AaMOa"
      }
    },
    {
      "cell_type": "markdown",
      "source": [
        "\n",
        "\n",
        "---\n",
        "\n"
      ],
      "metadata": {
        "id": "fRg3rjNqsw3W"
      }
    },
    {
      "cell_type": "markdown",
      "source": [
        "4. What are probability distribution functions (PDF)?\n",
        "\n",
        "- A Probability Distribution Function (PDF) is a mathematical function that describes the likelihood of a continuous random variable taking on a range of values.\n",
        "\n",
        "Key Points About PDF:\n",
        "Used for Continuous Random Variables\n",
        "\n",
        "A PDF gives the probability density, not the exact probability, at each value.\n",
        "\n",
        "Probability of a Single Value is Zero\n",
        "\n",
        "For continuous variables,\n",
        "P(X = x) = 0\n",
        "Instead, we calculate the probability over an interval:\n",
        "P(a ≤ X ≤ b) = ∫ from a to b of PDF(x) dx\n",
        "\n",
        "The Area Under the Curve = 1\n",
        "\n",
        "The total probability over all possible values of X is always 1.\n",
        "\n",
        "PDF is Non-Negative\n",
        "\n",
        "For all values of x: PDF(x) ≥ 0\n",
        "\n",
        "Shape Depends on the Distribution\n",
        "\n",
        "Different distributions (Normal, Exponential, etc.) have different PDF shapes.\n",
        "\n",
        "Helps Model Real-Life Continuous Data\n",
        "\n",
        "Examples:\n",
        "\n",
        "Normal PDF for height, test scores\n",
        "\n",
        "Exponential PDF for time between events."
      ],
      "metadata": {
        "id": "Qx7JZAgbb-fF"
      }
    },
    {
      "cell_type": "markdown",
      "source": [
        "\n",
        "\n",
        "---\n",
        "\n"
      ],
      "metadata": {
        "id": "F4EtJOj4syJN"
      }
    },
    {
      "cell_type": "markdown",
      "source": [
        "5. How do cumulative distribution functions (CDF) differ from probability distribution functions (PDF)?\n",
        "\n",
        "- Comparison between PDF (Probability Density Function) and CDF (Cumulative Distribution Function) in points:\n",
        "\n",
        "🔸 PDF (Probability Density Function)\n",
        "Applies to:\n",
        "\n",
        "Continuous random variables\n",
        "\n",
        "Meaning:\n",
        "\n",
        "Describes the probability density at a specific value of a random variable.\n",
        "\n",
        "What It Tells You:\n",
        "\n",
        "The relative likelihood of the variable taking a specific value.\n",
        "\n",
        "Single Value Probability:\n",
        "\n",
        "P(X = x) = 0 for continuous variables\n",
        "\n",
        "Use PDF to find probability over an interval:\n",
        "\n",
        "P(a ≤ X ≤ b) = ∫[a to b] PDF(x) dx\n",
        "Graph:\n",
        "\n",
        "Curved line showing the density—area under curve = 1.\n",
        "\n",
        "🔹 CDF (Cumulative Distribution Function)\n",
        "Applies to:\n",
        "\n",
        "Both discrete and continuous random variables\n",
        "\n",
        "Meaning:\n",
        "\n",
        "Describes the cumulative probability that a random variable is less than or equal to a certain value.\n",
        "\n",
        "What It Tells You:\n",
        "\n",
        "P(X ≤ x) — the probability that X is less than or equal to a specific value.\n",
        "\n",
        "Always Increases (Non-decreasing):\n",
        "\n",
        "CDF starts at 0 and goes up to 1 as x increases.\n",
        "\n",
        "Graph:\n",
        "\n",
        "Smooth S-shaped curve for continuous variables\n",
        "\n",
        "Step function for discrete variables\n",
        "\n",
        "Relation with PDF:\n",
        "\n",
        "PDF is the derivative of CDF (for continuous variables):\n",
        "\n",
        "PDF(x) = d/dx [CDF(x)]\n"
      ],
      "metadata": {
        "id": "zs4t2cSa87Y7"
      }
    },
    {
      "cell_type": "markdown",
      "source": [
        "\n",
        "\n",
        "---\n",
        "\n"
      ],
      "metadata": {
        "id": "yHVt4HL0szjD"
      }
    },
    {
      "cell_type": "markdown",
      "source": [
        "6. What is a discrete uniform distribution?\n",
        "\n",
        "- A discrete uniform distribution is a probability distribution where all outcomes are equally likely and finite in number.\n",
        "\n",
        "✅ Key Characteristics:\n",
        "\n",
        "1) Equal Probability\n",
        "\n",
        "Every outcome has the same probability of occurring.\n",
        "\n",
        "2) Finite Set of Values\n",
        "\n",
        "The variable can only take on a limited number of discrete values.\n",
        "\n",
        "3) Simple Formula\n",
        "\n",
        "If there are n outcomes, then:\n",
        "\n",
        "𝑃\n",
        "(\n",
        "𝑋\n",
        "=\n",
        "𝑥\n",
        ")\n",
        "=\n",
        "1\n",
        "𝑛\n",
        "for all\n",
        "𝑥\n",
        "P(X=x)=\n",
        "n\n",
        "1\n",
        "​\n",
        " for all x\n",
        "\n",
        "4) Mean (Expected Value):\n",
        "\n",
        "𝐸\n",
        "(\n",
        "𝑋\n",
        ")\n",
        "=\n",
        "𝑎\n",
        "+\n",
        "𝑏\n",
        "2\n",
        "E(X)=\n",
        "2\n",
        "a+b\n",
        "​\n",
        "\n",
        "5) Variance:\n",
        "\n",
        "Var\n",
        "(\n",
        "𝑋\n",
        ")\n",
        "=\n",
        "(\n",
        "𝑏\n",
        "−\n",
        "𝑎\n",
        "+\n",
        "1\n",
        ")\n",
        "2\n",
        "−\n",
        "1\n",
        "12\n",
        "Var(X)=\n",
        "12\n",
        "(b−a+1)\n",
        "2\n",
        " −1\n",
        "​\n",
        "\n",
        "where a is the minimum value, and b is the maximum value.\n",
        "\n",
        "🧾 Examples:\n",
        "1) Rolling a fair die\n",
        "\n",
        "Outcomes: 1, 2, 3, 4, 5, 6\n",
        "\n",
        "Each has probability = 1/6\n",
        "\n",
        "2) Drawing a card number randomly from 1 to 10\n",
        "\n",
        "Probability of getting any number = 1/10\n",
        "\n",
        "3) Spinning a fair spinner with 5 equal sections\n",
        "\n",
        "Each section has a 1/5 chance.\n",
        "\n"
      ],
      "metadata": {
        "id": "dl6eU4fW900U"
      }
    },
    {
      "cell_type": "markdown",
      "source": [
        "\n",
        "\n",
        "---\n",
        "\n"
      ],
      "metadata": {
        "id": "EYpb5GoUs051"
      }
    },
    {
      "cell_type": "markdown",
      "source": [
        "7. What are the key properties of a Bernoulli distribution?\n",
        "\n",
        "- A Bernoulli distribution is the simplest discrete probability distribution that models a single trial with only two possible outcomes: Success (1) or Failure (0).\n",
        "\n",
        "✅ Key Properties:\n",
        "\n",
        "1) Two Outcomes Only\n",
        "\n",
        "Values: 1 (success) and 0 (failure)\n",
        "\n",
        "2) Single Trial\n",
        "\n",
        "Represents the result of a single experiment (e.g., tossing a coin once)\n",
        "\n",
        "3) Probability of Success (p):\n",
        "\n",
        "P(X = 1) = p\n",
        "\n",
        "P(X = 0) = 1 - p\n",
        "\n",
        "Where 0 ≤ p ≤ 1\n",
        "\n",
        "4) Mean (Expected Value):\n",
        "\n",
        "𝐸\n",
        "(\n",
        "𝑋\n",
        ")\n",
        "=\n",
        "𝑝\n",
        "E(X)=p\n",
        "\n",
        "5) Variance:\n",
        "\n",
        "Var\n",
        "(\n",
        "𝑋\n",
        ")\n",
        "=\n",
        "𝑝\n",
        "(\n",
        "1\n",
        "−\n",
        "𝑝\n",
        ")\n",
        "Var(X)=p(1−p)\n",
        "\n",
        "6) Skewness:\n",
        "\n",
        "Skewed if p ≠ 0.5\n",
        "\n",
        "Symmetrical when p = 0.5\n",
        "\n",
        "7) Used As a Building Block\n",
        "\n",
        "Forms the basis for the Binomial distribution, which models multiple Bernoulli trials.\n",
        "\n",
        "8) Memoryless Property:\n",
        "\n",
        "Not memoryless itself, but used in contexts like geometric or binomial distributions that relate to repeated Bernoulli trials."
      ],
      "metadata": {
        "id": "605MjXs4Q8h5"
      }
    },
    {
      "cell_type": "markdown",
      "source": [
        "\n",
        "\n",
        "---\n",
        "\n"
      ],
      "metadata": {
        "id": "3zKG2aUbs1_S"
      }
    },
    {
      "cell_type": "markdown",
      "source": [
        "8. What is the binomial distribution, and how is it used in probability?\n",
        "\n",
        "- The binomial distribution is a discrete probability distribution that models the number of successes in a fixed number of independent Bernoulli trials, each with the same probability of success.\n",
        "\n",
        "Key Characteristics:\n",
        "\n",
        "Each trial has two outcomes: success or failure.\n",
        "\n",
        "The number of trials is fixed (n).\n",
        "\n",
        "Each trial has the same probability of success (p).\n",
        "\n",
        "The probability of exactly k successes is given by:\n",
        "\n",
        "𝑃\n",
        "(\n",
        "𝑋\n",
        "=\n",
        "𝑘\n",
        ")\n",
        "=\n",
        "(\n",
        "𝑛\n",
        "𝑘\n",
        ")\n",
        "𝑝\n",
        "𝑘\n",
        "(\n",
        "1\n",
        "−\n",
        "𝑝\n",
        ")\n",
        "𝑛\n",
        "−\n",
        "𝑘\n",
        "P(X=k)=(\n",
        "k\n",
        "n\n",
        "​\n",
        " )p\n",
        "k\n",
        " (1−p)\n",
        "n−k\n",
        "\n",
        "Mean:\n",
        "𝜇\n",
        "=\n",
        "𝑛\n",
        "𝑝\n",
        "μ=np\n",
        "\n",
        "Variance:\n",
        "𝜎\n",
        "2\n",
        "=\n",
        "𝑛\n",
        "𝑝\n",
        "(\n",
        "1\n",
        "−\n",
        "𝑝\n",
        ")\n",
        "σ\n",
        "2\n",
        " =np(1−p)\n",
        "\n",
        "Applications:\n",
        "Used in scenarios like:\n",
        "\n",
        "Tossing a coin multiple times\n",
        "\n",
        "Quality control (defective vs non-defective items)\n",
        "\n",
        "Survey responses (yes/no)."
      ],
      "metadata": {
        "id": "PEevJ7hfU0js"
      }
    },
    {
      "cell_type": "markdown",
      "source": [
        "\n",
        "\n",
        "---\n",
        "\n"
      ],
      "metadata": {
        "id": "ajQeoQ8Ss3Ln"
      }
    },
    {
      "cell_type": "markdown",
      "source": [
        "9. What is the Poisson distribution and where is it applied)?\n",
        "\n",
        "- The Poisson distribution is a discrete probability distribution that models the number of events occurring in a fixed interval of time or space, given a constant average rate of occurrence and independence of events.\n",
        "\n",
        "Key Characteristics:\n",
        "\n",
        "Describes the number of occurrences (k) in a fixed interval.\n",
        "\n",
        "Events occur independently and randomly.\n",
        "\n",
        "The average rate of occurrence (λ, lambda) is constant.\n",
        "\n",
        "Probability mass function:\n",
        "\n",
        "𝑃\n",
        "(\n",
        "𝑋\n",
        "=\n",
        "𝑘\n",
        ")\n",
        "=\n",
        "𝜆\n",
        "𝑘\n",
        "𝑒\n",
        "−\n",
        "𝜆\n",
        "𝑘\n",
        "!\n",
        "P(X=k)=\n",
        "k!\n",
        "λ\n",
        "k\n",
        " e\n",
        "−λ\n",
        "\n",
        "​\n",
        "\n",
        "Mean and Variance: Both are equal to λ.\n",
        "\n",
        "Applications:\n",
        "\n",
        "Number of emails received in an hour\n",
        "\n",
        "Number of accidents per week\n",
        "\n",
        "Number of arrivals at a queue (e.g., customers at a shop)."
      ],
      "metadata": {
        "id": "vYEsF64RVsQR"
      }
    },
    {
      "cell_type": "markdown",
      "source": [
        "\n",
        "\n",
        "---\n",
        "\n"
      ],
      "metadata": {
        "id": "2uStPKUIs4QE"
      }
    },
    {
      "cell_type": "markdown",
      "source": [
        "10. What is a continuous uniform distribution?\n",
        "\n",
        "- A continuous uniform distribution is a probability distribution where all values in a continuous interval are equally likely.\n",
        "\n",
        "Key Characteristics:\n",
        "\n",
        "Defined over a range\n",
        "[\n",
        "𝑎\n",
        ",\n",
        "𝑏\n",
        "]\n",
        "[a,b].\n",
        "\n",
        "Probability density function (PDF):\n",
        "\n",
        "𝑓\n",
        "(\n",
        "𝑥\n",
        ")\n",
        "=\n",
        "1\n",
        "𝑏\n",
        "−\n",
        "𝑎\n",
        "for\n",
        "𝑎\n",
        "≤\n",
        "𝑥\n",
        "≤\n",
        "𝑏\n",
        "f(x)=\n",
        "b−a\n",
        "1\n",
        "​\n",
        " for a≤x≤b\n",
        "Mean:\n",
        "𝜇\n",
        "=\n",
        "𝑎\n",
        "+\n",
        "𝑏\n",
        "2\n",
        "μ=\n",
        "2\n",
        "a+b\n",
        "​\n",
        "\n",
        "\n",
        "Variance:\n",
        "𝜎\n",
        "2\n",
        "=\n",
        "(\n",
        "𝑏\n",
        "−\n",
        "𝑎\n",
        ")\n",
        "2\n",
        "12\n",
        "σ\n",
        "2\n",
        " =\n",
        "12\n",
        "(b−a)\n",
        "2\n",
        "\n",
        "​\n",
        "\n",
        "\n",
        "Flat horizontal graph indicating equal probability.\n",
        "\n",
        "Applications:\n",
        "\n",
        "Random number generators\n",
        "\n",
        "Simulating simple random behavior (e.g., spinning a wheel)."
      ],
      "metadata": {
        "id": "Ygd3RHV0dFvt"
      }
    },
    {
      "cell_type": "markdown",
      "source": [
        "\n",
        "\n",
        "---\n",
        "\n"
      ],
      "metadata": {
        "id": "sPJITUt4s5X5"
      }
    },
    {
      "cell_type": "markdown",
      "source": [
        "11. What are the characteristics of a normal distribution?\n",
        "\n",
        "- The normal distribution is a continuous probability distribution that is symmetrical and bell-shaped, centered around the mean.\n",
        "\n",
        "Key Characteristics:\n",
        "\n",
        "Symmetrical about the mean.\n",
        "\n",
        "Mean = Median = Mode\n",
        "\n",
        "Defined by two parameters:\n",
        "\n",
        "Mean (μ) – center\n",
        "\n",
        "Standard deviation (σ) – spread\n",
        "\n",
        "The PDF is:\n",
        "\n",
        "𝑓\n",
        "(\n",
        "𝑥\n",
        ")\n",
        "=\n",
        "1\n",
        "𝜎\n",
        "2\n",
        "𝜋\n",
        "𝑒\n",
        "−\n",
        "1\n",
        "2\n",
        "(\n",
        "𝑥\n",
        "−\n",
        "𝜇\n",
        "𝜎\n",
        ")\n",
        "2\n",
        "f(x)=\n",
        "σ\n",
        "2π\n",
        "​\n",
        "\n",
        "1\n",
        "​\n",
        " e\n",
        "−\n",
        "2\n",
        "1\n",
        "​\n",
        " (\n",
        "σ\n",
        "x−μ\n",
        "​\n",
        " )\n",
        "2\n",
        "\n",
        "\n",
        "Empirical Rule (68-95-99.7 Rule):\n",
        "\n",
        "~68% of data within 1σ\n",
        "\n",
        "~95% within 2σ\n",
        "\n",
        "~99.7% within 3σ\n",
        "\n",
        "Applications:\n",
        "\n",
        "Heights, weights, IQ scores\n",
        "\n",
        "Errors and noise in measurements\n",
        "\n",
        "Financial modeling."
      ],
      "metadata": {
        "id": "9mx_j7uJduea"
      }
    },
    {
      "cell_type": "markdown",
      "source": [
        "\n",
        "\n",
        "---\n",
        "\n"
      ],
      "metadata": {
        "id": "6IWfNQ9qs6Y0"
      }
    },
    {
      "cell_type": "markdown",
      "source": [
        "12. What is the standard normal distribution, and why is it important?\n",
        "\n",
        "- The standard normal distribution is a special case of the normal distribution where:\n",
        "\n",
        "Mean (μ) = 0\n",
        "\n",
        "Standard deviation (σ) = 1\n",
        "\n",
        "Why It’s Important:\n",
        "\n",
        "Used for Z-scores, which standardize values from any normal distribution:\n",
        "\n",
        "𝑍\n",
        "=\n",
        "𝑋\n",
        "−\n",
        "𝜇\n",
        "𝜎\n",
        "Z=\n",
        "σ\n",
        "X−μ\n",
        "​\n",
        "\n",
        "Allows for easy comparison between different normal distributions.\n",
        "\n",
        "Cumulative probabilities are easily found using Z-tables.\n",
        "\n",
        "Widely used in hypothesis testing, confidence intervals, and regression analysis."
      ],
      "metadata": {
        "id": "QpFTy6g1TF8V"
      }
    },
    {
      "cell_type": "markdown",
      "source": [
        "\n",
        "\n",
        "---\n",
        "\n"
      ],
      "metadata": {
        "id": "OKizupJ4ZBiT"
      }
    },
    {
      "cell_type": "markdown",
      "source": [
        "13. What is the Central Limit Theorem (CLT), and why is it critical in statistics?\n",
        "\n",
        "- The Central Limit Theorem (CLT) states that the sampling distribution of the sample mean approaches a normal distribution as the sample size becomes large, regardless of the population’s original distribution, provided the samples are independent and identically distributed (i.i.d.).\n",
        "\n",
        "Why It's Important:\n",
        "\n",
        "1) Allows us to use normal distribution to make inferences even when the population isn't normally distributed.\n",
        "\n",
        "2) Essential for confidence intervals and hypothesis testing.\n",
        "\n",
        "3) Underpins many statistical methods and models."
      ],
      "metadata": {
        "id": "IwgmRGwgoNDs"
      }
    },
    {
      "cell_type": "markdown",
      "source": [
        "\n",
        "\n",
        "---\n",
        "\n"
      ],
      "metadata": {
        "id": "_jF2Xt2LxXc2"
      }
    },
    {
      "cell_type": "markdown",
      "source": [
        "14. How does the Central Limit Theorem relate to the normal distribution?\n",
        "\n",
        "- 1) The CLT shows that as the sample size (n) increases, the distribution of sample means becomes approximately normal, even if the population distribution is not normal.\n",
        "\n",
        " 2) If population is already normal, then the sample mean distribution is normal regardless of n.\n",
        "\n",
        " 3) This connection allows the normal distribution to be used in analyzing sample means."
      ],
      "metadata": {
        "id": "QDV07HVaod_B"
      }
    },
    {
      "cell_type": "markdown",
      "source": [
        "\n",
        "\n",
        "---\n",
        "\n"
      ],
      "metadata": {
        "id": "9H7ubD3wxa0v"
      }
    },
    {
      "cell_type": "markdown",
      "source": [
        "15.  What is the application of Z statistics in hypothesis testing?\n",
        "\n",
        "- Z-statistics are used in hypothesis testing when:\n",
        "\n",
        " The population standard deviation (σ) is known.\n",
        "\n",
        " The sample size is large (n ≥ 30).\n",
        "\n",
        "Applications:\n",
        "\n",
        "Test whether a sample mean differs significantly from a known population mean.\n",
        "\n",
        "Common in one-sample Z-tests, two-sample Z-tests, and proportion tests."
      ],
      "metadata": {
        "id": "oxBOwQFFoiL5"
      }
    },
    {
      "cell_type": "markdown",
      "source": [
        "\n",
        "\n",
        "---\n",
        "\n"
      ],
      "metadata": {
        "id": "28-ri8zGxf0A"
      }
    },
    {
      "cell_type": "markdown",
      "source": [
        "16. How do you calculate a Z-score, and what does it represent?\n",
        "\n",
        "- A Z-score indicates how many standard deviations a data point is from the mean.\n",
        "\n",
        "Formula:\n",
        "\n",
        "𝑍\n",
        "=\n",
        "𝑋\n",
        "−\n",
        "𝜇\n",
        "𝜎\n",
        "Z=\n",
        "σ\n",
        "X−μ\n",
        "​\n",
        "\n",
        "Where:\n",
        "\n",
        "𝑋\n",
        "X = data value\n",
        "\n",
        "𝜇\n",
        "μ = population mean\n",
        "\n",
        "𝜎\n",
        "σ = population standard deviation\n",
        "\n",
        "Interpretation:\n",
        "\n",
        "Positive Z → value is above the mean\n",
        "\n",
        "Negative Z → value is below the mean\n",
        "\n",
        "Z = 0 → value equals the mean."
      ],
      "metadata": {
        "id": "B0MDG-6YomfV"
      }
    },
    {
      "cell_type": "markdown",
      "source": [
        "\n",
        "\n",
        "---\n",
        "\n"
      ],
      "metadata": {
        "id": "ga0mmKSbzBDq"
      }
    },
    {
      "cell_type": "markdown",
      "source": [
        "17. What are point estimates and interval estimates in statistics?\n",
        "\n",
        "- Point Estimate:\n",
        "A single value used to estimate a population parameter.\n",
        "Example: Sample mean (\n",
        "𝑥\n",
        "ˉ\n",
        "x\n",
        "ˉ\n",
        " ) as an estimate for population mean (μ).\n",
        "\n",
        " Interval Estimate:\n",
        "A range of values (with a confidence level) within which the parameter is expected to lie.\n",
        "Example: A 95% confidence interval for the population mean."
      ],
      "metadata": {
        "id": "lS3_pPZporUV"
      }
    },
    {
      "cell_type": "markdown",
      "source": [
        "\n",
        "\n",
        "---\n",
        "\n"
      ],
      "metadata": {
        "id": "bxw87QAvzKq2"
      }
    },
    {
      "cell_type": "markdown",
      "source": [
        "18. What is the significance of confidence intervals in statistical analysis?\n",
        "\n",
        "- A confidence interval (CI) gives a range of plausible values for a population parameter.\n",
        "\n",
        " It reflects the uncertainty associated with a point estimate.\n",
        "\n",
        " Example: \"We are 95% confident the true mean lies between 100 and 110.\"\n",
        "\n",
        "Significance:\n",
        "\n",
        "Provides more information than a single point estimate.\n",
        "\n",
        "Helps in decision-making under uncertainty.\n",
        "\n",
        "Widely used in reporting results of studies and experiments."
      ],
      "metadata": {
        "id": "9NuqzcNEotZY"
      }
    },
    {
      "cell_type": "markdown",
      "source": [
        "\n",
        "\n",
        "---\n",
        "\n"
      ],
      "metadata": {
        "id": "uKf4MWm_zYQq"
      }
    },
    {
      "cell_type": "markdown",
      "source": [
        "19. What is the relationship between a Z-score and a confidence interval?\n",
        "\n",
        "- Z-scores define the margin of error in a confidence interval when the population standard deviation is known.\n",
        "\n",
        "Formula for Confidence Interval:\n",
        "\n",
        "𝑥\n",
        "ˉ\n",
        "±\n",
        "𝑍\n",
        "𝛼\n",
        "/\n",
        "2\n",
        "⋅\n",
        "𝜎\n",
        "𝑛\n",
        "x\n",
        "ˉ\n",
        " ±Z\n",
        "α/2\n",
        "​\n",
        " ⋅\n",
        "n\n",
        "​\n",
        "\n",
        "σ\n",
        "​\n",
        "\n",
        "Where:\n",
        "\n",
        "𝑥\n",
        "ˉ\n",
        "x\n",
        "ˉ\n",
        "  = sample mean\n",
        "\n",
        "𝑍\n",
        "𝛼\n",
        "/\n",
        "2\n",
        "Z\n",
        "α/2\n",
        "​\n",
        "  = Z-value for desired confidence level\n",
        "\n",
        "𝜎\n",
        "σ = population standard deviation\n",
        "\n",
        "𝑛\n",
        "n = sample size\n",
        "\n",
        "Relation:\n",
        "\n",
        "Z-scores help determine how wide or narrow the confidence interval is."
      ],
      "metadata": {
        "id": "J_Z0tWIUoxM2"
      }
    },
    {
      "cell_type": "markdown",
      "source": [
        "\n",
        "\n",
        "---\n",
        "\n"
      ],
      "metadata": {
        "id": "3dGefNG1zh0j"
      }
    },
    {
      "cell_type": "markdown",
      "source": [
        "20.  How are Z-scores used to compare different distributions?\n",
        "\n",
        "- Z-scores standardize values from different distributions to a common scale (mean = 0, SD = 1).\n",
        "\n",
        " This allows direct comparison across:\n",
        "\n",
        "Different units (e.g., cm vs kg)\n",
        "\n",
        "Different scales (e.g., test scores from two exams)\n",
        "\n",
        "    Example:\n",
        "A Z-score of 1.5 means the value is 1.5 standard deviations above the mean, regardless of the original distribution's scale."
      ],
      "metadata": {
        "id": "pWrJifnBo1eb"
      }
    },
    {
      "cell_type": "markdown",
      "source": [
        "\n",
        "\n",
        "---\n",
        "\n"
      ],
      "metadata": {
        "id": "vI7W8fY1z7q8"
      }
    },
    {
      "cell_type": "markdown",
      "source": [
        "21. What are the assumptions for applying the Central Limit Theorem?\n",
        "\n",
        "- 1) Independence:\n",
        "Samples must be drawn independently.\n",
        "\n",
        "2) Identically Distributed:\n",
        "All samples should come from the same population.\n",
        "\n",
        "3) Sample Size:\n",
        "Should be sufficiently large (usually n ≥ 30) for non-normal populations. Smaller sizes are acceptable if the population is already normal.\n",
        "\n",
        "4) Random Sampling:\n",
        "Samples must be randomly selected."
      ],
      "metadata": {
        "id": "ehiqNIsyo4Vf"
      }
    },
    {
      "cell_type": "markdown",
      "source": [
        "\n",
        "\n",
        "---\n",
        "\n"
      ],
      "metadata": {
        "id": "6Yu0I7lpz_D5"
      }
    },
    {
      "cell_type": "markdown",
      "source": [
        "22. What is the concept of expected value in a probability distribution?\n",
        "\n",
        "- The expected value (E[X]) is the long-run average or mean value of a random variable over many trials.\n",
        "\n",
        "Formula:\n",
        "\n",
        "For discrete variables:\n",
        "\n",
        "𝐸\n",
        "(\n",
        "𝑋\n",
        ")\n",
        "=\n",
        "∑\n",
        "𝑥\n",
        "𝑖\n",
        "⋅\n",
        "𝑃\n",
        "(\n",
        "𝑥\n",
        "𝑖\n",
        ")\n",
        "E(X)=∑x\n",
        "i\n",
        "​\n",
        " ⋅P(x\n",
        "i\n",
        "​\n",
        " )\n",
        "For continuous variables:\n",
        "\n",
        "𝐸\n",
        "(\n",
        "𝑋\n",
        ")\n",
        "=\n",
        "∫\n",
        "𝑥\n",
        "⋅\n",
        "𝑓\n",
        "(\n",
        "𝑥\n",
        ")\n",
        "\n",
        "𝑑\n",
        "𝑥\n",
        "E(X)=∫x⋅f(x)dx\n",
        "Interpretation:\n",
        "It’s the theoretical average outcome if the experiment is repeated infinitely many times."
      ],
      "metadata": {
        "id": "nazntvruo9N2"
      }
    },
    {
      "cell_type": "markdown",
      "source": [
        "\n",
        "\n",
        "---\n",
        "\n"
      ],
      "metadata": {
        "id": "y1IVkImnz_7i"
      }
    },
    {
      "cell_type": "markdown",
      "source": [
        "23.  How does a probability distribution relate to the expected outcome of a random variable?\n",
        "\n",
        "- A probability distribution describes the likelihood of different outcomes of a random variable.\n",
        "\n",
        " The expected value is calculated from the distribution and gives a summary measure of the central tendency.\n",
        "\n",
        "In simple terms:\n",
        "The distribution provides all possible outcomes and their probabilities, and the expected value tells us what we can anticipate on average in the long run."
      ],
      "metadata": {
        "id": "nGikmQrfpAy6"
      }
    },
    {
      "cell_type": "markdown",
      "source": [
        "\n",
        "\n",
        "---\n",
        "\n"
      ],
      "metadata": {
        "id": "Yqg6qUfkr-4b"
      }
    },
    {
      "cell_type": "markdown",
      "source": [
        "##Practical Questions"
      ],
      "metadata": {
        "id": "aSHPBJWppKBp"
      }
    },
    {
      "cell_type": "code",
      "source": [
        "#Q1) Write a Python program to generate a random variable and display its value.\n",
        "import random\n",
        "\n",
        "x = random.randint(1, 10)\n",
        "print(\"Random Variable Value:\", x)"
      ],
      "metadata": {
        "colab": {
          "base_uri": "https://localhost:8080/"
        },
        "id": "EsmtcDZYpZMp",
        "outputId": "2c4e0228-91cc-4ff5-de13-b36c41406c62"
      },
      "execution_count": 1,
      "outputs": [
        {
          "output_type": "stream",
          "name": "stdout",
          "text": [
            "Random Variable Value: 4\n"
          ]
        }
      ]
    },
    {
      "cell_type": "code",
      "source": [
        "#Q2) Generate a discrete uniform distribution using Python and plot the probability mass function (PMF)?\n",
        "#Q2) Generate a discrete uniform distribution using Python and plot the probability mass function (PMF)?\n",
        "import numpy as np\n",
        "import matplotlib.pyplot as plt\n",
        "\n",
        "values = np.arange(1, 7)\n",
        "pmf = [1/6] * 6\n",
        "\n",
        "# Remove the 'use_line_collection' argument or update matplotlib\n",
        "# plt.stem(values, pmf, use_line_collection=True)\n",
        "plt.stem(values, pmf)  # For older matplotlib versions\n",
        "\n",
        "plt.title(\"PMF of Discrete Uniform Distribution\")\n",
        "plt.xlabel(\"Value\")\n",
        "plt.ylabel(\"Probability\")\n",
        "plt.grid(True)\n",
        "plt.show()"
      ],
      "metadata": {
        "colab": {
          "base_uri": "https://localhost:8080/",
          "height": 472
        },
        "id": "nzzzxhR2pgfP",
        "outputId": "85061f94-ee85-42b8-e9cd-9b93b727f319"
      },
      "execution_count": 3,
      "outputs": [
        {
          "output_type": "display_data",
          "data": {
            "text/plain": [
              "<Figure size 640x480 with 1 Axes>"
            ],
            "image/png": "[encoded data removed]"
          },
          "metadata": {}
        }
      ]
    },
    {
      "cell_type": "code",
      "source": [
        "#Q3) Write a Python function to calculate the probability distribution function (PDF) of a Bernoulli distribution?\n",
        "def bernoulli_pdf(p, x):\n",
        "    if x in [0, 1]:\n",
        "        return p**x * (1 - p)**(1 - x)\n",
        "    else:\n",
        "        return 0\n",
        "\n",
        "print(\"P(X=1):\", bernoulli_pdf(0.7, 1))\n",
        "print(\"P(X=0):\", bernoulli_pdf(0.7, 0))"
      ],
      "metadata": {
        "colab": {
          "base_uri": "https://localhost:8080/"
        },
        "id": "E0HiPEu_pnED",
        "outputId": "7848dc16-3b55-4e42-adfc-eb2f5c3f6a51"
      },
      "execution_count": 4,
      "outputs": [
        {
          "output_type": "stream",
          "name": "stdout",
          "text": [
            "P(X=1): 0.7\n",
            "P(X=0): 0.30000000000000004\n"
          ]
        }
      ]
    },
    {
      "cell_type": "code",
      "source": [
        "#Q4) Write a Python script to simulate a binomial distribution with n=10 and p=0.5, then plot its histogram?\n",
        "import numpy as np\n",
        "import matplotlib.pyplot as plt\n",
        "\n",
        "data = np.random.binomial(n=10, p=0.5, size=1000)\n",
        "\n",
        "plt.hist(data, bins=range(12), density=True, edgecolor='black')\n",
        "plt.title(\"Binomial Distribution (n=10, p=0.5)\")\n",
        "plt.xlabel(\"Number of Successes\")\n",
        "plt.ylabel(\"Frequency\")\n",
        "plt.grid(True)\n",
        "plt.show()"
      ],
      "metadata": {
        "colab": {
          "base_uri": "https://localhost:8080/",
          "height": 472
        },
        "id": "CoFLhZAmptS7",
        "outputId": "9ccdb5b2-ba2f-4ab3-bc81-192ba6574017"
      },
      "execution_count": 5,
      "outputs": [
        {
          "output_type": "display_data",
          "data": {
            "text/plain": [
              "<Figure size 640x480 with 1 Axes>"
            ],
            "image/png": "[encoded data removed]"
          },
          "metadata": {}
        }
      ]
    },
    {
      "cell_type": "code",
      "source": [
        "#Q5) Create a Poisson distribution and visualize it using Python.\n",
        "import numpy as np\n",
        "import matplotlib.pyplot as plt\n",
        "\n",
        "data = np.random.poisson(lam=3, size=1000)\n",
        "\n",
        "plt.hist(data, bins=range(10), density=True, edgecolor='black')\n",
        "plt.title(\"Poisson Distribution (λ=3)\")\n",
        "plt.xlabel(\"Events\")\n",
        "plt.ylabel(\"Probability\")\n",
        "plt.grid(True)\n",
        "plt.show()"
      ],
      "metadata": {
        "colab": {
          "base_uri": "https://localhost:8080/",
          "height": 472
        },
        "id": "Havt6M6fpyV3",
        "outputId": "9bc3a4ad-bf19-440d-8046-9486acffde42"
      },
      "execution_count": 6,
      "outputs": [
        {
          "output_type": "display_data",
          "data": {
            "text/plain": [
              "<Figure size 640x480 with 1 Axes>"
            ],
            "image/png": "[encoded data removed]"
          },
          "metadata": {}
        }
      ]
    },
    {
      "cell_type": "code",
      "source": [
        "#Q6) Write a Python program to calculate and plot the cumulative distribution function (CDF) of a discrete uniform distribution.\n",
        "import numpy as np\n",
        "import matplotlib.pyplot as plt\n",
        "\n",
        "values = np.arange(1, 7)\n",
        "cdf = np.cumsum([1/6] * 6)\n",
        "\n",
        "plt.step(values, cdf, where='mid')\n",
        "plt.title(\"CDF of Discrete Uniform Distribution\")\n",
        "plt.xlabel(\"Value\")\n",
        "plt.ylabel(\"Cumulative Probability\")\n",
        "plt.grid(True)\n",
        "plt.show()"
      ],
      "metadata": {
        "colab": {
          "base_uri": "https://localhost:8080/",
          "height": 472
        },
        "id": "XNjEabS-p3nu",
        "outputId": "20059d92-ddfb-407d-b57c-27ef63ab0d46"
      },
      "execution_count": 7,
      "outputs": [
        {
          "output_type": "display_data",
          "data": {
            "text/plain": [
              "<Figure size 640x480 with 1 Axes>"
            ],
            "image/png": "[encoded data removed]"
          },
          "metadata": {}
        }
      ]
    },
    {
      "cell_type": "code",
      "source": [
        "#Q7) Generate a continuous uniform distribution using NumPy and visualize it.\n",
        "import numpy as np\n",
        "import matplotlib.pyplot as plt\n",
        "\n",
        "data = np.random.uniform(low=0, high=10, size=1000)\n",
        "\n",
        "plt.hist(data, bins=30, density=True, edgecolor='black')\n",
        "plt.title(\"Continuous Uniform Distribution\")\n",
        "plt.xlabel(\"Value\")\n",
        "plt.ylabel(\"Density\")\n",
        "plt.grid(True)\n",
        "plt.show()"
      ],
      "metadata": {
        "colab": {
          "base_uri": "https://localhost:8080/",
          "height": 472
        },
        "id": "Bt9xyDHsp--s",
        "outputId": "f7cf3af7-94e4-46da-f84f-93569da1f0c6"
      },
      "execution_count": 8,
      "outputs": [
        {
          "output_type": "display_data",
          "data": {
            "text/plain": [
              "<Figure size 640x480 with 1 Axes>"
            ],
            "image/png": "[encoded data removed]"
          },
          "metadata": {}
        }
      ]
    },
    {
      "cell_type": "code",
      "source": [
        "#Q8) Simulate data from a normal distribution and plot its histogram.\n",
        "import numpy as np\n",
        "import matplotlib.pyplot as plt\n",
        "\n",
        "data = np.random.normal(loc=0, scale=1, size=1000)\n",
        "\n",
        "plt.hist(data, bins=30, density=True, edgecolor='black')\n",
        "plt.title(\"Normal Distribution\")\n",
        "plt.xlabel(\"Value\")\n",
        "plt.ylabel(\"Density\")\n",
        "plt.grid(True)\n",
        "plt.show()"
      ],
      "metadata": {
        "colab": {
          "base_uri": "https://localhost:8080/",
          "height": 472
        },
        "id": "UPix8Y05qDjX",
        "outputId": "cc4be11a-0c00-43a1-a9d2-b857f296232f"
      },
      "execution_count": 9,
      "outputs": [
        {
          "output_type": "display_data",
          "data": {
            "text/plain": [
              "<Figure size 640x480 with 1 Axes>"
            ],
            "image/png": "[encoded data removed]"
          },
          "metadata": {}
        }
      ]
    },
    {
      "cell_type": "code",
      "source": [
        "#Q9) Write a Python function to calculate Z-scores from a dataset and plot them.\n",
        "import numpy as np\n",
        "import matplotlib.pyplot as plt\n",
        "\n",
        "def calculate_z_scores(data):\n",
        "    mean = np.mean(data)\n",
        "    std = np.std(data)\n",
        "    return (data - mean) / std\n",
        "\n",
        "data = np.random.normal(50, 10, 100)\n",
        "z_scores = calculate_z_scores(data)\n",
        "\n",
        "plt.hist(z_scores, bins=30, edgecolor='black')\n",
        "plt.title(\"Z-scores Histogram\")\n",
        "plt.xlabel(\"Z-score\")\n",
        "plt.ylabel(\"Frequency\")\n",
        "plt.grid(True)\n",
        "plt.show()"
      ],
      "metadata": {
        "colab": {
          "base_uri": "https://localhost:8080/",
          "height": 472
        },
        "id": "403sIAv1qJYu",
        "outputId": "318b0135-70e1-4a1e-eab5-b2cca070a0d2"
      },
      "execution_count": 10,
      "outputs": [
        {
          "output_type": "display_data",
          "data": {
            "text/plain": [
              "<Figure size 640x480 with 1 Axes>"
            ],
            "image/png": "[encoded data removed]"
          },
          "metadata": {}
        }
      ]
    },
    {
      "cell_type": "code",
      "source": [
        "#Q10) Implement the Central Limit Theorem (CLT) using Python for a non-normal distribution.\n",
        "import numpy as np\n",
        "import matplotlib.pyplot as plt\n",
        "\n",
        "population = np.random.exponential(scale=2, size=10000)\n",
        "sample_means = [np.mean(np.random.choice(population, 30)) for _ in range(1000)]\n",
        "\n",
        "plt.hist(sample_means, bins=30, density=True, edgecolor='black')\n",
        "plt.title(\"CLT Simulation (Means of Samples from Exponential Distribution)\")\n",
        "plt.xlabel(\"Sample Mean\")\n",
        "plt.ylabel(\"Density\")\n",
        "plt.grid(True)\n",
        "plt.show()"
      ],
      "metadata": {
        "colab": {
          "base_uri": "https://localhost:8080/",
          "height": 472
        },
        "id": "e11C1O2IqTkj",
        "outputId": "fd341721-330d-4f93-cd0f-f3f53f369176"
      },
      "execution_count": 11,
      "outputs": [
        {
          "output_type": "display_data",
          "data": {
            "text/plain": [
              "<Figure size 640x480 with 1 Axes>"
            ],
            "image/png": "[encoded data removed]"
          },
          "metadata": {}
        }
      ]
    },
    {
      "cell_type": "code",
      "source": [
        "#Q11) Simulate multiple samples from a normal distribution and verify the Central Limit Theorem.\n",
        "import numpy as np\n",
        "import matplotlib.pyplot as plt\n",
        "\n",
        "sample_means = [np.mean(np.random.normal(loc=50, scale=10, size=30)) for _ in range(1000)]\n",
        "\n",
        "plt.hist(sample_means, bins=30, density=True, edgecolor='black')\n",
        "plt.title(\"Verification of CLT with Normal Samples\")\n",
        "plt.xlabel(\"Sample Mean\")\n",
        "plt.ylabel(\"Density\")\n",
        "plt.grid(True)\n",
        "plt.show()"
      ],
      "metadata": {
        "colab": {
          "base_uri": "https://localhost:8080/",
          "height": 472
        },
        "id": "GweXDtsYqfri",
        "outputId": "49fdfd37-5eef-4b83-8541-da721a53bc17"
      },
      "execution_count": 12,
      "outputs": [
        {
          "output_type": "display_data",
          "data": {
            "text/plain": [
              "<Figure size 640x480 with 1 Axes>"
            ],
            "image/png": "[encoded data removed]"
          },
          "metadata": {}
        }
      ]
    },
    {
      "cell_type": "code",
      "source": [
        "#Q12) Write a Python function to calculate and plot the standard normal distribution (mean = 0, std = 1).\n",
        "import numpy as np\n",
        "import matplotlib.pyplot as plt\n",
        "from scipy.stats import norm\n",
        "\n",
        "x = np.linspace(-4, 4, 100)\n",
        "y = norm.pdf(x, 0, 1)\n",
        "\n",
        "plt.plot(x, y)\n",
        "plt.title(\"Standard Normal Distribution (μ=0, σ=1)\")\n",
        "plt.xlabel(\"x\")\n",
        "plt.ylabel(\"PDF\")\n",
        "plt.grid(True)\n",
        "plt.show()"
      ],
      "metadata": {
        "colab": {
          "base_uri": "https://localhost:8080/",
          "height": 472
        },
        "id": "FbjZELo8qq5s",
        "outputId": "e983247b-dd76-44ab-98ee-2867efa4b22f"
      },
      "execution_count": 13,
      "outputs": [
        {
          "output_type": "display_data",
          "data": {
            "text/plain": [
              "<Figure size 640x480 with 1 Axes>"
            ],
            "image/png": "[encoded data removed]"
          },
          "metadata": {}
        }
      ]
    },
    {
      "cell_type": "code",
      "source": [
        "#Q13) Generate random variables and calculate their corresponding probabilities using the binomial distribution.\n",
        "from scipy.stats import binom\n",
        "\n",
        "n, p = 10, 0.5\n",
        "x = [0, 1, 2, 3, 4, 5]\n",
        "probs = binom.pmf(x, n, p)\n",
        "\n",
        "print(\"Probabilities:\", list(zip(x, probs)))"
      ],
      "metadata": {
        "colab": {
          "base_uri": "https://localhost:8080/"
        },
        "id": "QgTrJcslqxsn",
        "outputId": "be8b1941-93c6-4212-91eb-150b20da6bfc"
      },
      "execution_count": 14,
      "outputs": [
        {
          "output_type": "stream",
          "name": "stdout",
          "text": [
            "Probabilities: [(0, np.float64(0.0009765624999999989)), (1, np.float64(0.009765625000000002)), (2, np.float64(0.04394531250000004)), (3, np.float64(0.1171875)), (4, np.float64(0.2050781249999999)), (5, np.float64(0.24609375000000003))]\n"
          ]
        }
      ]
    },
    {
      "cell_type": "code",
      "source": [
        "#Q14) Write a Python program to calculate the Z-score for a given data point and compare it to a standard normal distribution.\n",
        "import scipy.stats as stats\n",
        "\n",
        "x, mu, sigma = 70, 60, 10\n",
        "z = (x - mu) / sigma\n",
        "p = stats.norm.cdf(z)\n",
        "\n",
        "print(\"Z-score:\", z)\n",
        "print(\"Probability (from standard normal):\", p)"
      ],
      "metadata": {
        "colab": {
          "base_uri": "https://localhost:8080/"
        },
        "id": "9LK3sGGIq1b-",
        "outputId": "9c2c1a66-9aea-42f1-c09f-ddd5dc52de47"
      },
      "execution_count": 15,
      "outputs": [
        {
          "output_type": "stream",
          "name": "stdout",
          "text": [
            "Z-score: 1.0\n",
            "Probability (from standard normal): 0.8413447460685429\n"
          ]
        }
      ]
    },
    {
      "cell_type": "code",
      "source": [
        "#Q15) Implement hypothesis testing using Z-statistics for a sample dataset.\n",
        "import numpy as np\n",
        "from scipy.stats import norm\n",
        "\n",
        "sample = np.random.normal(loc=52, scale=10, size=30)\n",
        "mu = 50\n",
        "z = (np.mean(sample) - mu) / (np.std(sample, ddof=1) / np.sqrt(len(sample)))\n",
        "p = 2 * (1 - norm.cdf(abs(z)))\n",
        "\n",
        "print(\"Z-statistic:\", z)\n",
        "print(\"P-value:\", p)"
      ],
      "metadata": {
        "colab": {
          "base_uri": "https://localhost:8080/"
        },
        "id": "ZzlE2MOaq5Ud",
        "outputId": "fa8ba34a-3525-44d0-b3f9-f3afe0cf2102"
      },
      "execution_count": 16,
      "outputs": [
        {
          "output_type": "stream",
          "name": "stdout",
          "text": [
            "Z-statistic: 4.010842235874151\n",
            "P-value: 6.0502530166095525e-05\n"
          ]
        }
      ]
    },
    {
      "cell_type": "code",
      "source": [
        "#Q16) Create a confidence interval for a dataset using Python and interpret the result.\n",
        "import numpy as np\n",
        "from scipy.stats import norm\n",
        "\n",
        "data = np.random.normal(100, 15, 50)\n",
        "mean = np.mean(data)\n",
        "se = np.std(data, ddof=1) / np.sqrt(len(data))\n",
        "ci = norm.interval(0.95, loc=mean, scale=se)\n",
        "\n",
        "print(\"95% Confidence Interval:\", ci)"
      ],
      "metadata": {
        "colab": {
          "base_uri": "https://localhost:8080/"
        },
        "id": "h0hVRz8ArACC",
        "outputId": "511441b7-7ed1-46af-b2c1-c48ec514f9e3"
      },
      "execution_count": 17,
      "outputs": [
        {
          "output_type": "stream",
          "name": "stdout",
          "text": [
            "95% Confidence Interval: (np.float64(92.1291803044445), np.float64(100.76559384104277))\n"
          ]
        }
      ]
    },
    {
      "cell_type": "code",
      "source": [
        "#Q17) Generate data from a normal distribution, then calculate and interpret the confidence interval for its mean.\n",
        "data = np.random.normal(70, 10, 40)\n",
        "mean = np.mean(data)\n",
        "se = np.std(data, ddof=1) / np.sqrt(len(data))\n",
        "ci = norm.interval(0.95, loc=mean, scale=se)\n",
        "\n",
        "print(\"Sample Mean:\", mean)\n",
        "print(\"95% CI for the Mean:\", ci)"
      ],
      "metadata": {
        "colab": {
          "base_uri": "https://localhost:8080/"
        },
        "id": "t7Jgof6HrGA1",
        "outputId": "abb9fede-9d60-4d60-eb83-6a7eae8fc2d2"
      },
      "execution_count": 18,
      "outputs": [
        {
          "output_type": "stream",
          "name": "stdout",
          "text": [
            "Sample Mean: 68.73184766701509\n",
            "95% CI for the Mean: (np.float64(66.32427550243028), np.float64(71.1394198315999))\n"
          ]
        }
      ]
    },
    {
      "cell_type": "code",
      "source": [
        "#Q18) Write a Python script to calculate and visualize the probability density function (PDF) of a normal distribution.\n",
        "x = np.linspace(30, 70, 100)\n",
        "pdf = norm.pdf(x, loc=50, scale=10)\n",
        "\n",
        "plt.plot(x, pdf)\n",
        "plt.title(\"PDF of Normal Distribution\")\n",
        "plt.xlabel(\"x\")\n",
        "plt.ylabel(\"PDF\")\n",
        "plt.grid(True)\n",
        "plt.show()"
      ],
      "metadata": {
        "colab": {
          "base_uri": "https://localhost:8080/",
          "height": 472
        },
        "id": "I-9ACLPtrLmh",
        "outputId": "1ad66232-b985-4534-937e-1924fe31d6d1"
      },
      "execution_count": 19,
      "outputs": [
        {
          "output_type": "display_data",
          "data": {
            "text/plain": [
              "<Figure size 640x480 with 1 Axes>"
            ],
            "image/png": "[encoded data removed]"
          },
          "metadata": {}
        }
      ]
    },
    {
      "cell_type": "code",
      "source": [
        "#Q19) Use Python to calculate and interpret the cumulative distribution function (CDF) of a Poisson distribution.\n",
        "from scipy.stats import poisson\n",
        "\n",
        "x = 4\n",
        "mu = 3\n",
        "cdf = poisson.cdf(x, mu)\n",
        "\n",
        "print(\"CDF of Poisson (x=4, λ=3):\", cdf)"
      ],
      "metadata": {
        "colab": {
          "base_uri": "https://localhost:8080/"
        },
        "id": "peyfOOdnrSbr",
        "outputId": "631706bf-a2b6-4870-d535-0a90f672b317"
      },
      "execution_count": 20,
      "outputs": [
        {
          "output_type": "stream",
          "name": "stdout",
          "text": [
            "CDF of Poisson (x=4, λ=3): 0.8152632445237722\n"
          ]
        }
      ]
    },
    {
      "cell_type": "code",
      "source": [
        "#Q20) Simulate a random variable using a continuous uniform distribution and calculate its expected value.\n",
        "data = np.random.uniform(0, 10, 1000)\n",
        "expected_value = np.mean(data)\n",
        "\n",
        "print(\"Expected Value:\", expected_value)"
      ],
      "metadata": {
        "colab": {
          "base_uri": "https://localhost:8080/"
        },
        "id": "_EKUsG6FrUg0",
        "outputId": "5a5b3c5e-e614-425f-e956-44792d0917e3"
      },
      "execution_count": 21,
      "outputs": [
        {
          "output_type": "stream",
          "name": "stdout",
          "text": [
            "Expected Value: 4.998151236451703\n"
          ]
        }
      ]
    },
    {
      "cell_type": "code",
      "source": [
        "#Q21) Write a Python program to compare the standard deviations of two datasets and visualize the difference.\n",
        "data1 = np.random.normal(50, 5, 100)\n",
        "data2 = np.random.normal(50, 15, 100)\n",
        "\n",
        "print(\"SD of Data1:\", np.std(data1))\n",
        "print(\"SD of Data2:\", np.std(data2))\n",
        "\n",
        "plt.hist(data1, alpha=0.5, label='SD=5')\n",
        "plt.hist(data2, alpha=0.5, label='SD=15')\n",
        "plt.legend()\n",
        "plt.title(\"Comparison of Standard Deviations\")\n",
        "plt.grid(True)\n",
        "plt.show()"
      ],
      "metadata": {
        "colab": {
          "base_uri": "https://localhost:8080/",
          "height": 488
        },
        "id": "9RjRaxEqrbkM",
        "outputId": "e675212e-b87f-4bbc-ffdb-2a4b7749de87"
      },
      "execution_count": 22,
      "outputs": [
        {
          "output_type": "stream",
          "name": "stdout",
          "text": [
            "SD of Data1: 4.5694752517476696\n",
            "SD of Data2: 15.124389369417262\n"
          ]
        },
        {
          "output_type": "display_data",
          "data": {
            "text/plain": [
              "<Figure size 640x480 with 1 Axes>"
            ],
            "image/png": "[encoded data removed]"
          },
          "metadata": {}
        }
      ]
    },
    {
      "cell_type": "code",
      "source": [
        "#Q22) Calculate the range and interquartile range (IQR) of a dataset generated from a normal distribution.\n",
        "data = np.random.normal(100, 20, 100)\n",
        "\n",
        "range_val = np.ptp(data)\n",
        "q75, q25 = np.percentile(data, [75, 25])\n",
        "iqr = q75 - q25\n",
        "\n",
        "print(\"Range:\", range_val)\n",
        "print(\"IQR:\", iqr)\n"
      ],
      "metadata": {
        "colab": {
          "base_uri": "https://localhost:8080/"
        },
        "id": "CaYypPcvrkmQ",
        "outputId": "452ab400-ab60-4845-9cae-4eeb744f4223"
      },
      "execution_count": 23,
      "outputs": [
        {
          "output_type": "stream",
          "name": "stdout",
          "text": [
            "Range: 97.10459104998276\n",
            "IQR: 23.715438479505437\n"
          ]
        }
      ]
    },
    {
      "cell_type": "code",
      "source": [
        "#Q23) Implement Z-score normalization on a dataset and visualize its transformation.\n",
        "data = np.random.normal(80, 10, 100)\n",
        "z_scores = (data - np.mean(data)) / np.std(data)\n",
        "\n",
        "plt.hist(z_scores, bins=30, edgecolor='black')\n",
        "plt.title(\"Z-score Normalized Data\")\n",
        "plt.xlabel(\"Z-score\")\n",
        "plt.ylabel(\"Frequency\")\n",
        "plt.grid(True)\n",
        "plt.show()\n"
      ],
      "metadata": {
        "colab": {
          "base_uri": "https://localhost:8080/",
          "height": 472
        },
        "id": "wPYUvyx1rqy5",
        "outputId": "adb5ba40-1fa0-4953-959a-865a0527888c"
      },
      "execution_count": 24,
      "outputs": [
        {
          "output_type": "display_data",
          "data": {
            "text/plain": [
              "<Figure size 640x480 with 1 Axes>"
            ],
            "image/png": "[encoded data removed]"
          },
          "metadata": {}
        }
      ]
    },
    {
      "cell_type": "code",
      "source": [
        "#Q24) Write a Python function to calculate the skewness and kurtosis of a dataset generated from a normal distribution.\n",
        "from scipy.stats import skew, kurtosis\n",
        "\n",
        "data = np.random.normal(0, 1, 1000)\n",
        "print(\"Skewness:\", skew(data))\n",
        "print(\"Kurtosis:\", kurtosis(data))"
      ],
      "metadata": {
        "colab": {
          "base_uri": "https://localhost:8080/"
        },
        "id": "cPJv6HG5rwHe",
        "outputId": "ed520386-9bb7-4b6c-9a3a-c101e9707309"
      },
      "execution_count": 25,
      "outputs": [
        {
          "output_type": "stream",
          "name": "stdout",
          "text": [
            "Skewness: 0.025874119759523695\n",
            "Kurtosis: -0.24095198748333457\n"
          ]
        }
      ]
    }
  ]
}